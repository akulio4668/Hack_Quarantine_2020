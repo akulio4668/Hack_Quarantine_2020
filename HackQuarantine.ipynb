{
 "cells": [
  {
   "cell_type": "code",
   "execution_count": 29,
   "metadata": {},
   "outputs": [],
   "source": [
    "import json, urllib.request\n",
    "\n",
    "url = \"https://api.covid19api.com/summary\"\n",
    "response = urllib.request.urlopen(url)\n",
    "jsondata = json.load(response)"
   ]
  },
  {
   "cell_type": "code",
   "execution_count": 28,
   "metadata": {},
   "outputs": [],
   "source": [
    "country_data_list = jsondata['Countries']\n",
    "country_dict = {}\n",
    "\n",
    "for num in range(0, 220):\n",
    "    country_name = country_data_list[num]['Country']\n",
    "    country_dict[country_name] = country_data_list[num]"
   ]
  },
  {
   "cell_type": "code",
   "execution_count": null,
   "metadata": {},
   "outputs": [],
   "source": []
  }
 ],
 "metadata": {
  "kernelspec": {
   "display_name": "Python 3",
   "language": "python",
   "name": "python3"
  },
  "language_info": {
   "codemirror_mode": {
    "name": "ipython",
    "version": 3
   },
   "file_extension": ".py",
   "mimetype": "text/x-python",
   "name": "python",
   "nbconvert_exporter": "python",
   "pygments_lexer": "ipython3",
   "version": "3.7.4"
  }
 },
 "nbformat": 4,
 "nbformat_minor": 2
}
